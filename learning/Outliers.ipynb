{
 "cells": [
  {
   "cell_type": "code",
   "execution_count": 2,
   "metadata": {},
   "outputs": [],
   "source": [
    "# disable warnings\n",
    "if True:\n",
    "    def warn(*args, **kwargs):\n",
    "        pass\n",
    "    import warnings\n",
    "    warnings.warn = warn\n",
    "    \n",
    "# our code\n",
    "from buildmodel import load_dataset\n",
    "from buildmodel import save\n",
    "from buildmodel import develop_model\n",
    "import extract_features\n",
    "from pandas import DataFrame\n",
    "import matplotlib.pyplot as plt\n",
    "from mpl_toolkits.mplot3d import Axes3D\n",
    "import seaborn\n",
    "import numpy as np\n",
    "\n",
    "# modeling techniques\n",
    "from sklearn import linear_model\n",
    "from sklearn import neural_network\n",
    "from sklearn import neighbors\n",
    "\n",
    "# inline plots\n",
    "%matplotlib notebook"
   ]
  },
  {
   "cell_type": "code",
   "execution_count": 3,
   "metadata": {},
   "outputs": [
    {
     "name": "stdout",
     "output_type": "stream",
     "text": [
      "Dataset 1, 237763 samples\n",
      "Dataset 2, 221348 samples\n",
      "Dataset 3, 235857 samples\n",
      "Dataset 4, 231088 samples\n"
     ]
    }
   ],
   "source": [
    "# load raw dataset\n",
    "dataset = load_dataset((\"a_1\",\"a_2\",\"b_1\",\"b_2\"), take_weighted_average=True)\n",
    "\n",
    "# form into X and y\n",
    "X = dataset.loc[:,['x','y']].values\n",
    "y_left  = dataset.left\n",
    "y_right = dataset.right"
   ]
  },
  {
   "cell_type": "code",
   "execution_count": null,
   "metadata": {},
   "outputs": [
    {
     "name": "stdout",
     "output_type": "stream",
     "text": [
      "[100. 100. 100. ...  -0.  -0.  -0.]\n"
     ]
    }
   ],
   "source": [
    "fig = plt.figure()\n",
    "ax = fig.add_subplot(111, projection='3d')\n",
    "print(dataset.left.values)\n",
    "ax.plot_surface(np.asarray(dataset.x.values),np.asarray(dataset.y.values),np.asarray(dataset.left.values).reshape(-1,1))"
   ]
  },
  {
   "cell_type": "code",
   "execution_count": null,
   "metadata": {},
   "outputs": [],
   "source": []
  },
  {
   "cell_type": "code",
   "execution_count": null,
   "metadata": {},
   "outputs": [],
   "source": []
  }
 ],
 "metadata": {
  "kernelspec": {
   "display_name": "Python 3",
   "language": "python",
   "name": "python3"
  },
  "language_info": {
   "codemirror_mode": {
    "name": "ipython",
    "version": 3
   },
   "file_extension": ".py",
   "mimetype": "text/x-python",
   "name": "python",
   "nbconvert_exporter": "python",
   "pygments_lexer": "ipython3",
   "version": "3.7.3"
  }
 },
 "nbformat": 4,
 "nbformat_minor": 2
}

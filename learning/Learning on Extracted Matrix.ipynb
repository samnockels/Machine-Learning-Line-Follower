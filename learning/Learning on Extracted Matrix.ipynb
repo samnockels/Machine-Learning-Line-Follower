{
 "cells": [
  {
   "cell_type": "code",
   "execution_count": 4,
   "metadata": {
    "scrolled": true
   },
   "outputs": [],
   "source": [
    "# disable warnings\n",
    "if True:\n",
    "    def warn(*args, **kwargs):\n",
    "        pass\n",
    "    import warnings\n",
    "    warnings.warn = warn\n",
    "\n",
    "import time\n",
    "\n",
    "# our code\n",
    "from buildmodel import load_dataset\n",
    "from buildmodel import save\n",
    "from buildmodel import develop_model\n",
    "import extract_features\n",
    "from pandas import DataFrame\n",
    "\n",
    "# modeling techniques\n",
    "from sklearn import linear_model\n",
    "from sklearn import neural_network\n",
    "from sklearn import neighbors\n",
    "\n",
    "# inline plots\n",
    "# %matplotlib notebook"
   ]
  },
  {
   "cell_type": "code",
   "execution_count": 7,
   "metadata": {
    "scrolled": true
   },
   "outputs": [
    {
     "name": "stdout",
     "output_type": "stream",
     "text": [
      "Dataset 1, 237763 samples\n",
      "Dataset 2, 235857 samples\n",
      "Dataset 3, 221348 samples\n",
      "Dataset 4, 231088 samples\n",
      "Dataset 5, 230029 samples\n",
      "Dataset 6, 228466 samples\n",
      "Dataset 7, 231996 samples\n",
      "Dataset 8, 230556 samples\n",
      "Dataset 9, 229798 samples\n",
      "Dataset 10, 226914 samples\n",
      "Extracting features\n",
      "Took 89.31582999229431 seconds to compute\n"
     ]
    }
   ],
   "source": [
    "# load dataset, and extract each sample into a matrix\n",
    "dataset = load_dataset((\"a_1\",\"b_1\",\"a_2\",\"b_2\",\"a_3\",\"b_3\",\"a_4\",\"b_4\",\"a_5\",\"b_5\"), take_weighted_average=False, extract=True, num_features=9)        \n",
    "\n",
    "# form into X and y\n",
    "X = dataset.iloc[:,0:-2].values\n",
    "y_left  = dataset.left\n",
    "y_right = dataset.right"
   ]
  },
  {
   "cell_type": "code",
   "execution_count": 8,
   "metadata": {},
   "outputs": [
    {
     "name": "stdout",
     "output_type": "stream",
     "text": [
      "Left Took 29.461491107940674 seconds to fit\n",
      "Right Took 20.4938542842865 seconds to fit\n",
      "saved model to [../models/linear_regression/matrix_9x9/left.pkl]\n",
      "saved model to [../models/linear_regression/matrix_9x9/right.pkl]\n"
     ]
    }
   ],
   "source": [
    "start = time.time()\n",
    "left  = linear_model.LinearRegression().fit(X, y_left)\n",
    "print(\"Left Took \"+str(time.time()-start)+\" seconds to fit\")\n",
    "start = time.time()\n",
    "right = linear_model.LinearRegression().fit(X, y_right)\n",
    "print(\"Right Took \"+str(time.time()-start)+\" seconds to fit\")\n",
    "\n",
    "save(left, '../models/linear_regression/matrix_9x9', 'left.pkl')\n",
    "save(right, '../models/linear_regression/matrix_9x9', 'right.pkl')"
   ]
  },
  {
   "cell_type": "code",
   "execution_count": 9,
   "metadata": {},
   "outputs": [
    {
     "name": "stdout",
     "output_type": "stream",
     "text": [
      "Left Took 1183.2255010604858 seconds to fit\n",
      "Right Took 2111.975662946701 seconds to fit\n",
      "saved model to [../models/neural_network/matrix_9x9/left.pkl]\n",
      "saved model to [../models/neural_network/matrix_9x9/right.pkl]\n"
     ]
    }
   ],
   "source": [
    "start = time.time()\n",
    "left  = neural_network.MLPRegressor((5), activation=\"relu\").fit(X, y_left)\n",
    "print(\"Left Took \"+str(time.time()-start)+\" seconds to fit\")\n",
    "start = time.time()\n",
    "right = neural_network.MLPRegressor((5), activation=\"relu\").fit(X, y_right)\n",
    "print(\"Right Took \"+str(time.time()-start)+\" seconds to fit\")\n",
    " \n",
    "save(left, '../models/neural_network/matrix_9x9', 'left.pkl')\n",
    "save(right, '../models/neural_network/matrix_9x9', 'right.pkl')"
   ]
  },
  {
   "cell_type": "code",
   "execution_count": null,
   "metadata": {},
   "outputs": [],
   "source": []
  }
 ],
 "metadata": {
  "kernelspec": {
   "display_name": "Python 3",
   "language": "python",
   "name": "python3"
  },
  "language_info": {
   "codemirror_mode": {
    "name": "ipython",
    "version": 3
   },
   "file_extension": ".py",
   "mimetype": "text/x-python",
   "name": "python",
   "nbconvert_exporter": "python",
   "pygments_lexer": "ipython3",
   "version": "3.7.3"
  }
 },
 "nbformat": 4,
 "nbformat_minor": 2
}
